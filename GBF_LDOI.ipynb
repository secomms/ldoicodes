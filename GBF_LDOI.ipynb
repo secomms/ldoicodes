{
 "cells": [
  {
   "cell_type": "markdown",
   "id": "a0c094c0",
   "metadata": {},
   "source": [
    "# G-BF decoding for group codes\n",
    "\n",
    "We given an example considering $G = \\mathcal C_{31} = \\{1,g,\\cdots,g^{30}\\}$, considering a code $\\mathfrak C\\subseteq \\mathbb F_2G$, with orthogonal idemponent\n",
    "\n",
    "$e_0^+ = g^3+g^6+g^{12}+g^{17}+g^{24}$"
   ]
  },
  {
   "cell_type": "code",
   "execution_count": 1,
   "id": "935dfe57",
   "metadata": {},
   "outputs": [],
   "source": [
    "#Auxiliary functions\n",
    "\n",
    "#On input a vector $\\mathtt{a}$, return the corresponding\n",
    "#element of the group algebra\n",
    "#K denotes the field, G the group, KG the group algebra\n",
    "def from_vector_to_KG(K,G,KG,a):\n",
    "\n",
    "    a_in_KG = KG(0);\n",
    "    for i in range(len(a)):\n",
    "\n",
    "        KG_term = a[i]*KG(G[i]);\n",
    "\n",
    "        a_in_KG += KG_term;\n",
    "\n",
    "\n",
    "    return a_in_KG;\n",
    "\n",
    "\n",
    "#############################\n",
    "\n",
    "#Sample vector with weight t, length n\n",
    "#K is the finite field\n",
    "def low_weight_vector(K,n,t):\n",
    "\n",
    "    q = K.cardinality();\n",
    "    a = vector(K,n);\n",
    "    while a.list().count(0)>(n-t):\n",
    "\n",
    "        i = randrange(n);\n",
    "        if a[i] == 0:\n",
    "            val = K(1+randrange(q-1));\n",
    "            a[i] = val;\n",
    "\n",
    "    return a;\n",
    "\n",
    "##############################"
   ]
  },
  {
   "cell_type": "markdown",
   "id": "f48f56b4",
   "metadata": {},
   "source": [
    "# Define the code"
   ]
  },
  {
   "cell_type": "code",
   "execution_count": 12,
   "id": "5d02501a",
   "metadata": {},
   "outputs": [
    {
     "name": "stdout",
     "output_type": "stream",
     "text": [
      "e0_plus*e0_plus == e0_plus ? True\n",
      " \n",
      "Adjacency matrix:\n",
      "[0 0 0 1 0 1 1 1 0 1 1 1 1 1 1 0 0 1 1 1 1 1 1 0 1 1 1 0 1 0 0]\n",
      "[0 0 0 0 1 0 1 1 1 0 1 1 1 1 1 1 0 0 1 1 1 1 1 1 0 1 1 1 0 1 0]\n",
      "[0 0 0 0 0 1 0 1 1 1 0 1 1 1 1 1 1 0 0 1 1 1 1 1 1 0 1 1 1 0 1]\n",
      "[1 0 0 0 0 0 1 0 1 1 1 0 1 1 1 1 1 1 0 0 1 1 1 1 1 1 0 1 1 1 0]\n",
      "[0 1 0 0 0 0 0 1 0 1 1 1 0 1 1 1 1 1 1 0 0 1 1 1 1 1 1 0 1 1 1]\n",
      "[1 0 1 0 0 0 0 0 1 0 1 1 1 0 1 1 1 1 1 1 0 0 1 1 1 1 1 1 0 1 1]\n",
      "[1 1 0 1 0 0 0 0 0 1 0 1 1 1 0 1 1 1 1 1 1 0 0 1 1 1 1 1 1 0 1]\n",
      "[1 1 1 0 1 0 0 0 0 0 1 0 1 1 1 0 1 1 1 1 1 1 0 0 1 1 1 1 1 1 0]\n",
      "[0 1 1 1 0 1 0 0 0 0 0 1 0 1 1 1 0 1 1 1 1 1 1 0 0 1 1 1 1 1 1]\n",
      "[1 0 1 1 1 0 1 0 0 0 0 0 1 0 1 1 1 0 1 1 1 1 1 1 0 0 1 1 1 1 1]\n",
      "[1 1 0 1 1 1 0 1 0 0 0 0 0 1 0 1 1 1 0 1 1 1 1 1 1 0 0 1 1 1 1]\n",
      "[1 1 1 0 1 1 1 0 1 0 0 0 0 0 1 0 1 1 1 0 1 1 1 1 1 1 0 0 1 1 1]\n",
      "[1 1 1 1 0 1 1 1 0 1 0 0 0 0 0 1 0 1 1 1 0 1 1 1 1 1 1 0 0 1 1]\n",
      "[1 1 1 1 1 0 1 1 1 0 1 0 0 0 0 0 1 0 1 1 1 0 1 1 1 1 1 1 0 0 1]\n",
      "[1 1 1 1 1 1 0 1 1 1 0 1 0 0 0 0 0 1 0 1 1 1 0 1 1 1 1 1 1 0 0]\n",
      "[0 1 1 1 1 1 1 0 1 1 1 0 1 0 0 0 0 0 1 0 1 1 1 0 1 1 1 1 1 1 0]\n",
      "[0 0 1 1 1 1 1 1 0 1 1 1 0 1 0 0 0 0 0 1 0 1 1 1 0 1 1 1 1 1 1]\n",
      "[1 0 0 1 1 1 1 1 1 0 1 1 1 0 1 0 0 0 0 0 1 0 1 1 1 0 1 1 1 1 1]\n",
      "[1 1 0 0 1 1 1 1 1 1 0 1 1 1 0 1 0 0 0 0 0 1 0 1 1 1 0 1 1 1 1]\n",
      "[1 1 1 0 0 1 1 1 1 1 1 0 1 1 1 0 1 0 0 0 0 0 1 0 1 1 1 0 1 1 1]\n",
      "[1 1 1 1 0 0 1 1 1 1 1 1 0 1 1 1 0 1 0 0 0 0 0 1 0 1 1 1 0 1 1]\n",
      "[1 1 1 1 1 0 0 1 1 1 1 1 1 0 1 1 1 0 1 0 0 0 0 0 1 0 1 1 1 0 1]\n",
      "[1 1 1 1 1 1 0 0 1 1 1 1 1 1 0 1 1 1 0 1 0 0 0 0 0 1 0 1 1 1 0]\n",
      "[0 1 1 1 1 1 1 0 0 1 1 1 1 1 1 0 1 1 1 0 1 0 0 0 0 0 1 0 1 1 1]\n",
      "[1 0 1 1 1 1 1 1 0 0 1 1 1 1 1 1 0 1 1 1 0 1 0 0 0 0 0 1 0 1 1]\n",
      "[1 1 0 1 1 1 1 1 1 0 0 1 1 1 1 1 1 0 1 1 1 0 1 0 0 0 0 0 1 0 1]\n",
      "[1 1 1 0 1 1 1 1 1 1 0 0 1 1 1 1 1 1 0 1 1 1 0 1 0 0 0 0 0 1 0]\n",
      "[0 1 1 1 0 1 1 1 1 1 1 0 0 1 1 1 1 1 1 0 1 1 1 0 1 0 0 0 0 0 1]\n",
      "[1 0 1 1 1 0 1 1 1 1 1 1 0 0 1 1 1 1 1 1 0 1 1 1 0 1 0 0 0 0 0]\n",
      "[0 1 0 1 1 1 0 1 1 1 1 1 1 0 0 1 1 1 1 1 1 0 1 1 1 0 1 0 0 0 0]\n",
      "[0 0 1 0 1 1 1 0 1 1 1 1 1 1 0 0 1 1 1 1 1 1 0 1 1 1 0 1 0 0 0]\n"
     ]
    }
   ],
   "source": [
    "\n",
    "n = 31; #code length\n",
    "q = 2; #finite field size\n",
    "\n",
    "#Define group and field\n",
    "G = CyclicPermutationGroup(n);\n",
    "\n",
    "K = GF(q); #finite field\n",
    "\n",
    "KG = GroupAlgebra(G,K); #group algebra\n",
    "\n",
    "#Define idemponent e0_plus\n",
    "e0_plus_in_KG = KG(G[3]) + KG(G[6]) + KG(G[12]) + KG(G[17]) + KG(G[24])\n",
    "\n",
    "#Doing some sanity checks\n",
    "print(\"e0_plus*e0_plus == e0_plus ?\",e0_plus_in_KG*e0_plus_in_KG == e0_plus_in_KG)\n",
    "\n",
    "#Define M matrix for decoding\n",
    "M = matrix(K,n,n);\n",
    "for i in range(n):\n",
    "\n",
    "    g_i = G[i]*e0_plus_in_KG;\n",
    "\n",
    "    m_i = vector(K,g_i);\n",
    "    for j in range(n):\n",
    "        M[j,i] = m_i[j];\n",
    "\n",
    "#Compute also adjacency matrix\n",
    "A = matrix(ZZ,n,n)\n",
    "for i in range(n-1):\n",
    "    for j in range(i+1,n):\n",
    "        a_ij = 0\n",
    "        for ell in range(n):\n",
    "            if (M[ell,i]==1)&(M[ell,j]==1):\n",
    "                a_ij += 1\n",
    "        A[i,j] = a_ij\n",
    "        A[j,i] = a_ij\n",
    "        \n",
    "#print adjacency matrix    \n",
    "print(\" \")\n",
    "print(\"Adjacency matrix:\")\n",
    "print(A)"
   ]
  },
  {
   "cell_type": "markdown",
   "id": "1cdacd86",
   "metadata": {},
   "source": [
    "# Algorithm for G-BF decoder"
   ]
  },
  {
   "cell_type": "code",
   "execution_count": 17,
   "id": "425c3f73",
   "metadata": {},
   "outputs": [],
   "source": [
    "#G-BF decoder\n",
    "def GBF(K, s_in_KG, M, threshold_BF, IterMax):\n",
    "    \n",
    "    #Represent syndrome as a vector\n",
    "    s = vector(s_in_KG);\n",
    "        \n",
    "    my_err_vec = vector(K,n); #error vector estimate\n",
    "    num_iter = 0; #iteration counter\n",
    "\n",
    "    while ((s.list().count(1)>0))&(num_iter < IterMax ):\n",
    "        \n",
    "        #Compute counters\n",
    "        counters = matrix(s.change_ring(ZZ))*M.change_ring(ZZ);\n",
    "        \n",
    "        #Flipping bits\n",
    "        for i in range(n):\n",
    "            if counters[0,i]>=threshold_BF[num_iter]:\n",
    "                my_err_vec[i] += K(1);\n",
    "                s += vector(M[:,i].transpose());\n",
    "\n",
    "        num_iter += 1;\n",
    "\n",
    "    if  s.list().count(1)>0:\n",
    "        return -1 #report failure\n",
    "    else:\n",
    "        return my_err_vec"
   ]
  },
  {
   "cell_type": "markdown",
   "id": "ce2c8228",
   "metadata": {},
   "source": [
    "# Set decoder and simulation parameters \n",
    "- number of errors \n",
    "- number of iterations \n",
    "- thresholds"
   ]
  },
  {
   "cell_type": "code",
   "execution_count": 22,
   "id": "0d0fb07a",
   "metadata": {},
   "outputs": [],
   "source": [
    "t = 2; #number of errors \n",
    "threshold_BF = [4,4]; #this must be a list with length = IterMax\n",
    "num_trials = 1000; #number of decoding attempts\n",
    "\n",
    "IterMax = len(threshold_BF)"
   ]
  },
  {
   "cell_type": "code",
   "execution_count": 23,
   "id": "8853ac16",
   "metadata": {},
   "outputs": [
    {
     "name": "stdout",
     "output_type": "stream",
     "text": [
      "t =  2 , Num test = 100, DFR = 0.000000000000000\n",
      "t =  2 , Num test = 200, DFR = 0.000000000000000\n",
      "t =  2 , Num test = 300, DFR = 0.000000000000000\n",
      "t =  2 , Num test = 400, DFR = 0.000000000000000\n",
      "t =  2 , Num test = 500, DFR = 0.000000000000000\n",
      "t =  2 , Num test = 600, DFR = 0.000000000000000\n",
      "t =  2 , Num test = 700, DFR = 0.000000000000000\n",
      "t =  2 , Num test = 800, DFR = 0.000000000000000\n",
      "t =  2 , Num test = 900, DFR = 0.000000000000000\n",
      "t =  2 , Num test = 1000, DFR = 0.000000000000000\n"
     ]
    }
   ],
   "source": [
    "#Test decoding for many trials\n",
    "dfr = RR(0);\n",
    "for num_test in range(1,num_trials+1):\n",
    "\n",
    "    #Sample random error vector\n",
    "    err_vec = low_weight_vector(K,n,t);\n",
    "    err_vec_in_KG = from_vector_to_KG(K,G,KG,err_vec);\n",
    "\n",
    "    #Computing syndrome\n",
    "    s_in_KG = err_vec_in_KG*e0_plus_in_KG;\n",
    "\n",
    "    #Run decoder\n",
    "    err_vec_estimate = GBF(K, s_in_KG, M, threshold_BF, IterMax)\n",
    "    if err_vec_estimate != err_vec:\n",
    "        dfr += 1;\n",
    "    \n",
    "    #Print results\n",
    "    if (num_test%100)==0:\n",
    "        print(\"t = \",t,\", Num test = \"+str(num_test)+\", DFR = \"+str(N(dfr/(num_test))));"
   ]
  }
 ],
 "metadata": {
  "kernelspec": {
   "display_name": "SageMath 10.1",
   "language": "sage",
   "name": "sagemath"
  },
  "language_info": {
   "codemirror_mode": {
    "name": "ipython",
    "version": 3
   },
   "file_extension": ".py",
   "mimetype": "text/x-python",
   "name": "python",
   "nbconvert_exporter": "python",
   "pygments_lexer": "ipython3",
   "version": "3.10.12"
  }
 },
 "nbformat": 4,
 "nbformat_minor": 5
}
